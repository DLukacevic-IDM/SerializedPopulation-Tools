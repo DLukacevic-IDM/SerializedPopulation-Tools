{
 "cells": [
  {
   "cell_type": "code",
   "execution_count": 1,
   "metadata": {},
   "outputs": [],
   "source": [
    "%matplotlib inline\n",
    "import dtkFileTools as dtkt\n",
    "import json\n",
    "import sys\n",
    "import snappy\n",
    "import pandas as pd\n",
    "import matplotlib\n",
    "from pandas.io.json import json_normalize\n",
    "\n",
    "# Load dtk serialized population data\n",
    "dtk = dtkt.read(r'test-data\\version2.dtk')"
   ]
  },
  {
   "cell_type": "code",
   "execution_count": 2,
   "metadata": {},
   "outputs": [
    {
     "data": {
      "text/html": [
       "<div>\n",
       "<style scoped>\n",
       "    .dataframe tbody tr th:only-of-type {\n",
       "        vertical-align: middle;\n",
       "    }\n",
       "\n",
       "    .dataframe tbody tr th {\n",
       "        vertical-align: top;\n",
       "    }\n",
       "\n",
       "    .dataframe thead th {\n",
       "        text-align: right;\n",
       "    }\n",
       "</style>\n",
       "<table border=\"1\" class=\"dataframe\">\n",
       "  <thead>\n",
       "    <tr style=\"text-align: right;\">\n",
       "      <th></th>\n",
       "      <th>suid.id</th>\n",
       "      <th>m_age</th>\n",
       "      <th>m_gender</th>\n",
       "      <th>m_is_infected</th>\n",
       "      <th>interventions.pSuccessfulFeedHuman</th>\n",
       "      <th>age_y</th>\n",
       "      <th>age_grp</th>\n",
       "    </tr>\n",
       "  </thead>\n",
       "  <tbody>\n",
       "    <tr>\n",
       "      <th>0</th>\n",
       "      <td>1</td>\n",
       "      <td>7693.72</td>\n",
       "      <td>1</td>\n",
       "      <td>False</td>\n",
       "      <td>0.9</td>\n",
       "      <td>21.078685</td>\n",
       "      <td>20</td>\n",
       "    </tr>\n",
       "    <tr>\n",
       "      <th>1</th>\n",
       "      <td>2</td>\n",
       "      <td>17005.80</td>\n",
       "      <td>0</td>\n",
       "      <td>True</td>\n",
       "      <td>0.9</td>\n",
       "      <td>46.591233</td>\n",
       "      <td>40</td>\n",
       "    </tr>\n",
       "    <tr>\n",
       "      <th>2</th>\n",
       "      <td>3</td>\n",
       "      <td>5059.40</td>\n",
       "      <td>0</td>\n",
       "      <td>False</td>\n",
       "      <td>0.9</td>\n",
       "      <td>13.861370</td>\n",
       "      <td>10</td>\n",
       "    </tr>\n",
       "    <tr>\n",
       "      <th>3</th>\n",
       "      <td>4</td>\n",
       "      <td>27445.90</td>\n",
       "      <td>1</td>\n",
       "      <td>True</td>\n",
       "      <td>0.9</td>\n",
       "      <td>75.194247</td>\n",
       "      <td>70</td>\n",
       "    </tr>\n",
       "    <tr>\n",
       "      <th>4</th>\n",
       "      <td>5</td>\n",
       "      <td>5841.84</td>\n",
       "      <td>0</td>\n",
       "      <td>False</td>\n",
       "      <td>0.9</td>\n",
       "      <td>16.005041</td>\n",
       "      <td>10</td>\n",
       "    </tr>\n",
       "  </tbody>\n",
       "</table>\n",
       "</div>"
      ],
      "text/plain": [
       "   suid.id     m_age  m_gender  m_is_infected  \\\n",
       "0        1   7693.72         1          False   \n",
       "1        2  17005.80         0           True   \n",
       "2        3   5059.40         0          False   \n",
       "3        4  27445.90         1           True   \n",
       "4        5   5841.84         0          False   \n",
       "\n",
       "   interventions.pSuccessfulFeedHuman      age_y  age_grp  \n",
       "0                                 0.9  21.078685       20  \n",
       "1                                 0.9  46.591233       40  \n",
       "2                                 0.9  13.861370       10  \n",
       "3                                 0.9  75.194247       70  \n",
       "4                                 0.9  16.005041       10  "
      ]
     },
     "execution_count": 2,
     "metadata": {},
     "output_type": "execute_result"
    }
   ],
   "source": [
    "# Humans dataframe\n",
    "\n",
    "# Rows for individual human with a subset of columns \n",
    "cols = ['suid.id', 'm_age', 'm_gender', 'm_is_infected', 'interventions.pSuccessfulFeedHuman']\n",
    "df_humans = json_normalize(dtk.nodes[0].individualHumans, meta=['suid', 'id'])[cols]\n",
    "\n",
    "# Add years and year group columns\n",
    "df_humans.loc[:, 'age_y'] = df_humans['m_age']/365 \n",
    "df_humans.loc[:, 'age_grp'] = df_humans['age_y'].apply(lambda r: 10*(int(r/10)) )\n",
    "\n",
    "df_humans.head()"
   ]
  },
  {
   "cell_type": "code",
   "execution_count": 3,
   "metadata": {},
   "outputs": [],
   "source": [
    "# Report infected by age group\n",
    "def report_infected_by_age_group(df_h, name):\n",
    "    # Count by age group and infected status\n",
    "    df_grp = df_h.groupby(['age_grp','m_is_infected'])[['age_y']].count()\n",
    "    df_grp.columns = ['count']\n",
    "\n",
    "    # pivot and plot (age group as rows, infected as cols)\n",
    "    df_grp2 = df_grp.reset_index().pivot(index='age_grp', columns='m_is_infected', values='count')\n",
    "    df_grp2 = df_grp2.fillna(0)\n",
    "    df_grp2.plot.bar(title=name)\n",
    "    #display(df_grp2.head())"
   ]
  },
  {
   "cell_type": "code",
   "execution_count": 4,
   "metadata": {},
   "outputs": [
    {
     "data": {
      "image/png": "[encoded data removed]",
      "text/plain": [
       "<Figure size 432x288 with 1 Axes>"
      ]
     },
     "metadata": {},
     "output_type": "display_data"
    },
    {
     "data": {
      "image/png": "[encoded data removed]",
      "text/plain": [
       "<Figure size 432x288 with 1 Axes>"
      ]
     },
     "metadata": {},
     "output_type": "display_data"
    }
   ],
   "source": [
    "# Update infected in the dataframe\n",
    "\n",
    "# Before: infected by age group\n",
    "report_infected_by_age_group(df_humans, 'Before (df_humans)')\n",
    "\n",
    "# Set all in the 10 age group NOT to be infected \n",
    "df_humans2 = df_humans.reset_index().set_index('suid.id')\n",
    "df_humans2.loc[df_humans2.age_grp == 10, 'm_is_infected'] = False\n",
    "\n",
    "# After: infected by age group\n",
    "report_infected_by_age_group(df_humans2, 'After (df_humans2)')"
   ]
  },
  {
   "cell_type": "code",
   "execution_count": 5,
   "metadata": {},
   "outputs": [
    {
     "name": "stdout",
     "output_type": "stream",
     "text": [
      "Before\n",
      "dataframe, row #12: True\n",
      "dtk obj, human #12: True\n",
      "\n",
      "After\n",
      "dataframe, row #12: False\n",
      "dtk obj, human #12: True\n"
     ]
    }
   ],
   "source": [
    "# Update DTK object\n",
    "\n",
    "# Before\n",
    "print('Before')\n",
    "#display(df_humans[df_humans.age_grp == 10].head())\n",
    "print('dataframe, row #12: {}'.format(df_humans.loc[12].m_is_infected))\n",
    "print('dtk obj, human #12: {}'.format(dtk.nodes[0].individualHumans[12].m_is_infected))\n",
    "\n",
    "\n",
    "# Update m_is_infected for each human <-- NOT working at this point\n",
    "for ind in dtk.nodes[0].individualHumans:  \n",
    "    # Get human id \n",
    "    suid_id = ind['suid']['id']    \n",
    "    # Read the infected value from the dataframe using human ID \n",
    "    m_is_infected = df_humans2.loc[suid_id].m_is_infected\n",
    "    ind.m_is_infected = m_is_infected\n",
    "\n",
    "print('')\n",
    "print('After')\n",
    "#display(df_humans2[df_humans2.age_grp == 10].head())\n",
    "print('dataframe, row #12: {}'.format(df_humans2.loc[12].m_is_infected))\n",
    "print('dtk obj, human #12: {}'.format(dtk.nodes[0].individualHumans[12].m_is_infected))"
   ]
  }
 ],
 "metadata": {
  "kernelspec": {
   "display_name": "Python 3",
   "language": "python",
   "name": "python3"
  },
  "language_info": {
   "codemirror_mode": {
    "name": "ipython",
    "version": 3
   },
   "file_extension": ".py",
   "mimetype": "text/x-python",
   "name": "python",
   "nbconvert_exporter": "python",
   "pygments_lexer": "ipython3",
   "version": "3.6.4"
  }
 },
 "nbformat": 4,
 "nbformat_minor": 2
}
